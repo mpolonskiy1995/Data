{
 "cells": [
  {
   "attachments": {},
   "cell_type": "markdown",
   "metadata": {},
   "source": [
    "# Imports"
   ]
  },
  {
   "cell_type": "code",
   "execution_count": 1,
   "metadata": {},
   "outputs": [
    {
     "name": "stderr",
     "output_type": "stream",
     "text": [
      "c:\\Users\\micha\\Envs\\UKSH\\lib\\site-packages\\tqdm\\auto.py:22: TqdmWarning: IProgress not found. Please update jupyter and ipywidgets. See https://ipywidgets.readthedocs.io/en/stable/user_install.html\n",
      "  from .autonotebook import tqdm as notebook_tqdm\n"
     ]
    }
   ],
   "source": [
    "import torch\n",
    "import torch.nn as nn\n",
    "import torch.optim as optim\n",
    "from torchvision import models\n",
    "from torch.utils.data import DataLoader\n",
    "from torch.utils.data import Dataset\n",
    "from torchvision import transforms\n",
    "\n",
    "from random import randrange\n",
    "import os\n",
    "import pandas as pd\n",
    "import numpy as np\n",
    "from sklearn.utils import resample\n",
    "\n",
    "import cv2 as cv\n",
    "from PIL import Image\n",
    "import PIL.ImageOps    \n",
    "import matplotlib.pyplot as plt\n",
    "from skimage.transform import resize\n",
    "\n",
    "from torch.utils.tensorboard import SummaryWriter\n",
    "import torchmetrics\n",
    "\n",
    "import warnings\n",
    "warnings.filterwarnings(\"ignore\")\n",
    "import seaborn as sns\n",
    "from tqdm import tqdm\n",
    "from sklearn.model_selection import train_test_split"
   ]
  },
  {
   "attachments": {},
   "cell_type": "markdown",
   "metadata": {},
   "source": [
    "# Globals\n"
   ]
  },
  {
   "cell_type": "code",
   "execution_count": 3,
   "metadata": {},
   "outputs": [],
   "source": [
    "dev = \"cuda:0\" if torch.cuda.is_available() else \"cpu\" \n",
    "device = torch.device(dev) \n",
    "\n",
    "size = (150,150)\n",
    "\n",
    "path = os.path.abspath(os.getcwd())"
   ]
  },
  {
   "attachments": {},
   "cell_type": "markdown",
   "metadata": {},
   "source": [
    "# Pre Processing\n",
    "### Calculating mean and std of images"
   ]
  },
  {
   "cell_type": "code",
   "execution_count": 4,
   "metadata": {},
   "outputs": [],
   "source": [
    "imgs = []\n",
    "\n",
    "convert = transforms.Compose([   \n",
    "\n",
    "    transforms.Grayscale(),\n",
    "    # resize\n",
    "    transforms.Resize(size),\n",
    "    # to-tensor\n",
    "    transforms.ToTensor(),\n",
    "\n",
    "    \n",
    "])\n",
    "\n",
    "for filename in os.listdir(\"testimages\"):\n",
    "    img = Image.open(f\"testimages/{filename}\").convert('RGB')\n",
    "    img = convert(img)\n",
    "    imgs.append(img)\n",
    "imgs = torch.stack(imgs)\n",
    "\n",
    "imgs_mean = imgs.mean()\n",
    "imgs_std = imgs.std()"
   ]
  },
  {
   "cell_type": "code",
   "execution_count": 5,
   "metadata": {},
   "outputs": [
    {
     "data": {
      "text/plain": [
       "(tensor(0.9898), tensor(0.0786))"
      ]
     },
     "execution_count": 5,
     "metadata": {},
     "output_type": "execute_result"
    }
   ],
   "source": [
    "imgs_mean, imgs_std"
   ]
  },
  {
   "cell_type": "code",
   "execution_count": 4,
   "metadata": {},
   "outputs": [],
   "source": [
    "transform = transforms.Compose([\n",
    "\n",
    "    transforms.Grayscale(),\n",
    "    # resize\n",
    "    transforms.Resize(size),\n",
    "    # to-tensor\n",
    "    transforms.ToTensor(),\n",
    "    # normalize\n",
    "    transforms.Normalize((imgs_mean), (imgs_std))\n",
    "])"
   ]
  },
  {
   "attachments": {},
   "cell_type": "markdown",
   "metadata": {},
   "source": [
    "# Load Data"
   ]
  },
  {
   "cell_type": "code",
   "execution_count": 5,
   "metadata": {},
   "outputs": [],
   "source": [
    "def loadimages():\n",
    "    images = []\n",
    "    for i in range(0,500):\n",
    "        img = Image.open(f\"testimages/img{i}.png\").convert('RGB')\n",
    "        img = transform(img)\n",
    "        images.append(img)\n",
    "    images = torch.stack(images)\n",
    "    return images"
   ]
  },
  {
   "cell_type": "code",
   "execution_count": 6,
   "metadata": {},
   "outputs": [],
   "source": [
    "images = loadimages()\n",
    "pairs = np.load(\"imagePairs.npy\", allow_pickle=True ).astype(int)\n",
    "labels = np.load(\"imageLabels.npy\", allow_pickle=True ).astype(float)\n",
    "\n",
    "pairs = pairs[500:24000]\n",
    "labels = labels[500:24000]\n",
    "\n",
    "# Split into Train, Val and Test\n",
    "rndidx = np.random.choice(np.arange(0,  len(pairs)), size = len(pairs) )\n",
    "trainidx, remain = np.array_split(rndidx, [int(0.7 * len(rndidx))])\n",
    "validx, testidx = np.array_split(remain, [int(0.5 * len(remain))])\n",
    "\n",
    "trainpairs = pairs[trainidx]\n",
    "valpairs = pairs[validx]\n",
    "testpairs = pairs[testidx]\n",
    "\n",
    "trainlabels = labels[trainidx]\n",
    "vallabels = labels[validx]\n",
    "testlabels = labels[testidx]\n"
   ]
  },
  {
   "cell_type": "code",
   "execution_count": 7,
   "metadata": {},
   "outputs": [
    {
     "data": {
      "image/png": "[encoded data removed]",
      "text/plain": [
       "<Figure size 800x500 with 3 Axes>"
      ]
     },
     "metadata": {},
     "output_type": "display_data"
    }
   ],
   "source": [
    "fig, ax = plt.subplots(1,3, figsize=(8,5))\n",
    "sns.histplot(trainlabels, ax=ax[0])\n",
    "ax[0].set_title(\"Train Label Dist\")\n",
    "sns.histplot(vallabels, ax=ax[1])\n",
    "ax[1].set_title(\"Val Label Dist\")\n",
    "sns.histplot(testlabels, ax=ax[2])\n",
    "ax[2].set_title(\"Test Label Dist\")\n",
    "plt.tight_layout()"
   ]
  },
  {
   "attachments": {},
   "cell_type": "markdown",
   "metadata": {},
   "source": [
    "# Training NN"
   ]
  },
  {
   "cell_type": "code",
   "execution_count": 8,
   "metadata": {},
   "outputs": [],
   "source": [
    "class HazelNet(nn.Module):\n",
    "    \"\"\"Class for instanciating the NN\n",
    "\n",
    "    Args:\n",
    "        nn (nn.Module): super class to inherit from in pytorch\n",
    "    \"\"\"\n",
    "\n",
    "    def __init__(self):\n",
    "        \"\"\" Cosntructor for initialization\n",
    "        \"\"\"\n",
    "        super(HazelNet, self).__init__()\n",
    "        self.resnet = models.resnet18(pretrained=True)\n",
    "  \n",
    "        # over-write the first conv layer to be able to read images\n",
    "        # as resnet18 reads (3,x,x) where 3 is RGB channels\n",
    "        # whereas MNIST has (1,x,x) where 1 is a gray-scale channel\n",
    "        self.resnet.conv1 = nn.Conv2d(1, 64, kernel_size=(7, 7), stride=(2, 2), padding=(3, 3), bias=False)\n",
    "\n",
    "        self.fc_in_features = self.resnet.fc.in_features \n",
    "        # remove the last layer of resnet18 (linear layer which is before avgpool layer)\n",
    "        self.resnet = torch.nn.Sequential(*(list(self.resnet.children())[:-1]))\n",
    "\n",
    "        # add linear layers to compare between the features of the two images\n",
    "        self.fc = nn.Sequential(\n",
    "            nn.Linear(self.fc_in_features, 4096),\n",
    "            nn.ReLU(inplace=True),\n",
    "            nn.Dropout2d(p=0.5),\n",
    "            nn.Linear(4096, 2048),\n",
    "            nn.ReLU(inplace=True),\n",
    "            nn.Dropout2d(p=0.5),\n",
    "            nn.Linear(2048, 1024),\n",
    "            nn.ReLU(inplace=True),\n",
    "            nn.Dropout2d(p=0.5),\n",
    "            nn.Linear(1024, 128),\n",
    "            )        \n",
    "       \n",
    "        # initialize the weights\n",
    "        self.resnet.apply(self.init_weights)\n",
    "        self.fc.apply(self.init_weights)   \n",
    "        \n",
    "    def init_weights(self, m):\n",
    "        \"\"\"Function for weight init\n",
    "\n",
    "        Args:\n",
    "            m (module): module to use for init\n",
    "        \"\"\"\n",
    "        if isinstance(m, nn.Linear):\n",
    "            torch.nn.init.xavier_uniform(m.weight)\n",
    "            m.bias.data.fill_(0.01)\n",
    "    \n",
    "    def forward_once(self, inputs):\n",
    "        \"\"\"Helper function for forward path\n",
    "\n",
    "        Args:\n",
    "            inputs (tensor): input tensor\n",
    "\n",
    "        Returns:\n",
    "            tensor: output tensor\n",
    "        \"\"\"\n",
    "        output = self.resnet(inputs)\n",
    "        output = output.view(output.size()[0], -1)\n",
    "        output = self.fc(output)\n",
    "        return output\n",
    "    \n",
    "    def distance_layer(self, vec1, vec2):\n",
    "        \"\"\"Function for calculating the cosine similarity between two tensors\n",
    "\n",
    "        Args:\n",
    "            vec1 (tensor): tensor for template images\n",
    "            vec2 (tensor): tensor for images to compare with\n",
    "\n",
    "        Returns:\n",
    "            tensor: tensor containing the calculated similarity as float\n",
    "        \"\"\"\n",
    "        cos = torch.nn.CosineSimilarity()\n",
    "        similarity = cos(vec1, vec2) \n",
    "        return similarity\n",
    "\n",
    "    def forward(self, template, img):\n",
    "        \"\"\"Main function for forward path\n",
    "\n",
    "        Args:\n",
    "            template (tensor): tensor of template images\n",
    "            img (tensor): tensor of images to compare\n",
    "\n",
    "        Returns:\n",
    "            tensor: tensor containing the calculated similarity as float\n",
    "        \"\"\"\n",
    "        output1 = self.forward_once(template)\n",
    "        output2 = self.forward_once(img)\n",
    "        output = self.distance_layer(output1,output2)\n",
    " \n",
    "        return output\n",
    "\n",
    "    def readImg_url (self, url1, url2, iswhite = False, plot = False):\n",
    "        \"\"\"Function for reading images into processable tensors. Can draw a picture of processed images\n",
    "\n",
    "        Args:\n",
    "            url1 (string): url to template image\n",
    "            url2 (string): url to image for comparison\n",
    "            iswhite (bool, optional): inverts image colors if set to true. Defaults to False.\n",
    "            plot (bool, optional): plots imported images if set to true. Defaults to False.\n",
    "\n",
    "        Returns:\n",
    "            tensor, tensor: two tensors containing the processed images ready for prediction\n",
    "        \"\"\"\n",
    "        # invert white and black if image is on white background\n",
    "        if iswhite:\n",
    "            realim1 = cv.bitwise_not(cv.imread(url1,0)).astype(np.float32)\n",
    "            realim2 = cv.bitwise_not(cv.imread(url2,0)).astype(np.float32)\n",
    "        else: \n",
    "            realim1 = cv.imread(url1,0).astype(np.float32)\n",
    "            realim2 = cv.imread(url2,0).astype(np.float32)\n",
    "\n",
    "        realim1 =  cv.resize(realim1, imgsize)\n",
    "        realim2 =  cv.resize(realim2, imgsize)\n",
    "        template = torch.tensor(realim1).unsqueeze(0).unsqueeze(0).to(device)\n",
    "        img = torch.tensor(realim2.astype(np.float32)).unsqueeze(0).unsqueeze(0).to(device)\n",
    "\n",
    "        if plot:\n",
    "            fig, ax = plt.subplots(1,2)\n",
    "            ax[0].imshow(realim1)\n",
    "            ax[1].imshow(realim2)\n",
    "        return template, img        "
   ]
  },
  {
   "cell_type": "code",
   "execution_count": 9,
   "metadata": {},
   "outputs": [],
   "source": [
    "augmenter = transforms.Compose([\n",
    "    transforms.RandomRotation(degrees=20),\n",
    "\n",
    "])\n"
   ]
  },
  {
   "cell_type": "code",
   "execution_count": 10,
   "metadata": {},
   "outputs": [],
   "source": [
    "# Class for creating a Dataset which the dataloader from pytroch needs to create a wrapper for iterating though the data\n",
    "class CustomImageDataset(Dataset):\n",
    "    def __init__(self, root, pairs, labels, images):\n",
    "       self.pairs = pairs\n",
    "       self.labels = labels\n",
    "       self.images = images\n",
    "       \n",
    "    def __len__(self):\n",
    "        return len(self.labels)\n",
    "\n",
    "    def __getitem__(self, idx):\n",
    "        element = self.pairs[idx]\n",
    "        label = self.labels[idx]\n",
    "        template = self.images[self.pairs[idx][0]]\n",
    "        img = self.images[self.pairs[idx][1]]\n",
    "        img = augmenter(img)\n",
    "        img = transforms.GaussianBlur(kernel_size=(5, 9), sigma=(0.1, 2))(img) if randrange(4) == 1 else img\n",
    "\n",
    "        return  template, img , label.astype(np.float32) "
   ]
  },
  {
   "attachments": {},
   "cell_type": "markdown",
   "metadata": {},
   "source": [
    "## NN Parameters"
   ]
  },
  {
   "cell_type": "code",
   "execution_count": 11,
   "metadata": {},
   "outputs": [],
   "source": [
    "batch_size = 40 if torch.cuda.is_available() else 64\n",
    "\n",
    "learning_rate = 0.005\n",
    "num_epochs = 100\n",
    "\n",
    "loss_history = []\n",
    "r2_history = []\n",
    "\n",
    "\n",
    "r2score = torchmetrics.R2Score().to(device)\n",
    "mape = torchmetrics.MeanAbsolutePercentageError().to(device)\n",
    "mse = torchmetrics.MeanSquaredError().to(device)\n",
    "mae = torchmetrics.MeanAbsoluteError().to(device)\n",
    "\n",
    "metrics = {\"loss\": 0 ,\"r2\" : r2score, \"mse\" : mse, \"mae\" : mae, \"mape\" : mape}"
   ]
  },
  {
   "cell_type": "code",
   "execution_count": 12,
   "metadata": {},
   "outputs": [],
   "source": [
    "model = HazelNet().to(device)\n",
    "criterion = nn.MSELoss()\n",
    "optimizer = optim.Adam(model.parameters(), lr=learning_rate)\n",
    "\n",
    "training_data = CustomImageDataset(\"\", pairs=trainpairs, labels=trainlabels, images=images)\n",
    "val_data = CustomImageDataset(\"\",  pairs=valpairs, labels=vallabels, images=images)\n",
    "test_data = CustomImageDataset(\"\", pairs=testpairs, labels=testlabels, images=images)\n",
    "\n",
    "# Create data loaders.\n",
    "train_loader = DataLoader(training_data, batch_size=batch_size, shuffle=True)\n",
    "val_loader = DataLoader(val_data, batch_size=batch_size, shuffle=True)\n",
    "test_loader = DataLoader(test_data, batch_size=batch_size, shuffle=True)\n"
   ]
  },
  {
   "cell_type": "code",
   "execution_count": 13,
   "metadata": {},
   "outputs": [],
   "source": [
    "def train_one_epoch(epoch_index, train_loader):\n",
    "    \"\"\"Function for training a NN for one epoch\n",
    "\n",
    "    Args:\n",
    "        epoch_index (int): index of current epoch\n",
    "        train_loader (data loader): loader containing training data\n",
    "\n",
    "    Returns:\n",
    "        float, tensor: averaged loss and r2 coefficient\n",
    "    \"\"\"\n",
    "\n",
    "    running = {\"loss\" :0, \"r2\" : 0, \"mse\" : 0, \"mae\" : 0, \"mape\" : 0}\n",
    "    total = {\"loss\" : 0, \"r2\" : 0, \"mse\" : 0, \"mae\" : 0, \"mape\" : 0}\n",
    "\n",
    "\n",
    "    for idx, data in enumerate(train_loader):\n",
    "        templates, images, targets = data\n",
    "        \n",
    "        templates = templates.to(device)\n",
    "        images = images.to(device)\n",
    "        targets = targets.to(device)\n",
    "        \n",
    "        optimizer.zero_grad()\n",
    "\n",
    "        outputs = model(templates, images)\n",
    "\n",
    "        loss = criterion(outputs, targets)\n",
    "        loss.backward()\n",
    "\n",
    "        optimizer.step()\n",
    "\n",
    "        for key, metric in metrics.items():\n",
    "            if key == \"loss\":\n",
    "                running[key] += loss\n",
    "                total[key] += loss\n",
    "            else:\n",
    "                running[key] += metric(outputs, torch.tensor(targets).squeeze())\n",
    "                total[key] += metric(outputs, torch.tensor(targets).squeeze())\n",
    "\n",
    "\n",
    "        if idx % 100 == 80:\n",
    "            running = {k: v / 100 for k,v in running.items()}\n",
    "            print('Train Epoch: {} [{}/{} ({:.0f}%)] Loss: {:.4f} R2Score: {:.4f} MSE: {:.4f} MAE {:.4f} MAPE {:.4f} '.format(\n",
    "            epoch_index, idx * len(templates), len(train_loader.dataset),\n",
    "            100. * idx / len(train_loader), running[\"loss\"], running[\"r2\"], running[\"mse\"], running[\"mae\"], running[\"mape\"]))\n",
    "            running = {\"loss\" :0, \"r2\" : 0, \"mse\" : 0, \"mae\" : 0, \"mape\" : 0}\n",
    "\n",
    "    total = {k: v / (idx + 1) for k,v in total.items()}\n",
    "\n",
    "    del templates\n",
    "    del images\n",
    "    del targets\n",
    "\n",
    "    torch.cuda.empty_cache()\n",
    "\n",
    "    return total"
   ]
  },
  {
   "cell_type": "code",
   "execution_count": 14,
   "metadata": {},
   "outputs": [],
   "source": [
    "def trainModel (train_loader, val_loader, saveModel = False):\n",
    "    \"\"\"Main Function for training the NN\n",
    "\n",
    "    Args:\n",
    "        train_loader (data loader): loader containing training data\n",
    "        val_loader (data loader): loader containing val data\n",
    "        saveModel (bool, optional): regulates whether to save the best model. Defaults to False.\n",
    "    \"\"\"\n",
    "    log = pd.DataFrame()\n",
    "    torch.cuda.empty_cache()\n",
    "    tb = SummaryWriter()\n",
    "    best_vloss = 1000000\n",
    "\n",
    "    for epoch in range (num_epochs):\n",
    "\n",
    "        model.train(True)\n",
    "        train_avgs = train_one_epoch(epoch_index=epoch, train_loader=train_loader)\n",
    "\n",
    "        torch.cuda.empty_cache()\n",
    "        model.train(False)\n",
    "\n",
    "        total = {\"loss\" : 0, \"r2\" : 0, \"mse\" : 0, \"mae\" : 0, \"mape\" : 0}\n",
    "\n",
    "        with torch.no_grad():\n",
    "            for idx, vdata in enumerate(val_loader):\n",
    "                vtemplates, vimages, vtargets = vdata\n",
    "                vtemplates = vtemplates.to(device)\n",
    "                vimages = vimages.to(device)\n",
    "                vtargets = vtargets.to(device)\n",
    "\n",
    "                voutputs = model(vtemplates,vimages)\n",
    "                vloss =  criterion(voutputs, vtargets)\n",
    "\n",
    "                for key, metric in metrics.items():\n",
    "                    if key == \"loss\":\n",
    "                        total[key] += vloss\n",
    "                    else:\n",
    "                        total[key] += metric(voutputs, torch.tensor(vtargets).squeeze())\n",
    "\n",
    "\n",
    "            val_avgs = {k: v / (idx + 1) for k,v in total.items()}\n",
    " \n",
    "            print('EPOCH RESULTS: Train Loss {:.4f} Valid Loss {:.4f} Train R2 {:.4f} Valid R2 {:.4f} Train MSE {:.4f} Val MSE {:.4f} Train MAE {:.4f} Val MAE {:.4f} Train MAPE {:.4f} Val MAPE {:.4f} '.format(\n",
    "                    train_avgs[\"loss\"], val_avgs[\"loss\"], train_avgs[\"r2\"], val_avgs[\"r2\"], train_avgs[\"mse\"], val_avgs[\"mse\"], train_avgs[\"mae\"], val_avgs[\"mae\"], train_avgs[\"mape\"], val_avgs[\"mape\"]))\n",
    "\n",
    "            tb.add_scalars('Training vs. Validation Loss',\n",
    "                            { 'Training' : train_avgs[\"loss\"], 'Validation' : val_avgs[\"loss\"]},\n",
    "                            epoch + 1)\n",
    "\n",
    "\n",
    "            tb.add_scalars('Training vs. Validation R2',\n",
    "                            { 'Training' : train_avgs[\"r2\"], 'Validation' : val_avgs[\"r2\"]},\n",
    "                            epoch + 1)\n",
    "            tb.flush()    \n",
    "\n",
    "        log = log.append({f\"train_{k}\" : v.cpu().item()  for k,v in train_avgs.items()} | {f\"val_{k}\" : v.cpu().item()  for k,v in val_avgs.items()}, ignore_index=True)\n",
    "        # Track best performance, and save the model's state\n",
    "        if saveModel and val_avgs[\"loss\"] < best_vloss:\n",
    "             best_vloss = val_avgs[\"loss\"]\n",
    "             torch.save(model.state_dict(), f\"{path}/Model/bestmodel\")\n",
    "\n",
    "    return log\n"
   ]
  },
  {
   "cell_type": "code",
   "execution_count": 15,
   "metadata": {},
   "outputs": [
    {
     "ename": "KeyboardInterrupt",
     "evalue": "",
     "output_type": "error",
     "traceback": [
      "\u001b[1;31m---------------------------------------------------------------------------\u001b[0m",
      "\u001b[1;31mKeyboardInterrupt\u001b[0m                         Traceback (most recent call last)",
      "Cell \u001b[1;32mIn [15], line 1\u001b[0m\n\u001b[1;32m----> 1\u001b[0m log \u001b[39m=\u001b[39m trainModel(train_loader\u001b[39m=\u001b[39mtrain_loader, val_loader\u001b[39m=\u001b[39mval_loader)\n",
      "Cell \u001b[1;32mIn [14], line 17\u001b[0m, in \u001b[0;36mtrainModel\u001b[1;34m(train_loader, val_loader, saveModel)\u001b[0m\n\u001b[0;32m     14\u001b[0m \u001b[39mfor\u001b[39;00m epoch \u001b[39min\u001b[39;00m \u001b[39mrange\u001b[39m (num_epochs):\n\u001b[0;32m     16\u001b[0m     model\u001b[39m.\u001b[39mtrain(\u001b[39mTrue\u001b[39;00m)\n\u001b[1;32m---> 17\u001b[0m     train_avgs \u001b[39m=\u001b[39m train_one_epoch(epoch_index\u001b[39m=\u001b[39;49mepoch, train_loader\u001b[39m=\u001b[39;49mtrain_loader)\n\u001b[0;32m     19\u001b[0m     torch\u001b[39m.\u001b[39mcuda\u001b[39m.\u001b[39mempty_cache()\n\u001b[0;32m     20\u001b[0m     model\u001b[39m.\u001b[39mtrain(\u001b[39mFalse\u001b[39;00m)\n",
      "Cell \u001b[1;32mIn [13], line 25\u001b[0m, in \u001b[0;36mtrain_one_epoch\u001b[1;34m(epoch_index, train_loader)\u001b[0m\n\u001b[0;32m     21\u001b[0m targets \u001b[39m=\u001b[39m targets\u001b[39m.\u001b[39mto(device)\n\u001b[0;32m     23\u001b[0m optimizer\u001b[39m.\u001b[39mzero_grad()\n\u001b[1;32m---> 25\u001b[0m outputs \u001b[39m=\u001b[39m model(templates, images)\n\u001b[0;32m     27\u001b[0m loss \u001b[39m=\u001b[39m criterion(outputs, targets)\n\u001b[0;32m     28\u001b[0m loss\u001b[39m.\u001b[39mbackward()\n",
      "File \u001b[1;32mc:\\Users\\micha\\Envs\\UKSH\\lib\\site-packages\\torch\\nn\\modules\\module.py:1190\u001b[0m, in \u001b[0;36mModule._call_impl\u001b[1;34m(self, *input, **kwargs)\u001b[0m\n\u001b[0;32m   1186\u001b[0m \u001b[39m# If we don't have any hooks, we want to skip the rest of the logic in\u001b[39;00m\n\u001b[0;32m   1187\u001b[0m \u001b[39m# this function, and just call forward.\u001b[39;00m\n\u001b[0;32m   1188\u001b[0m \u001b[39mif\u001b[39;00m \u001b[39mnot\u001b[39;00m (\u001b[39mself\u001b[39m\u001b[39m.\u001b[39m_backward_hooks \u001b[39mor\u001b[39;00m \u001b[39mself\u001b[39m\u001b[39m.\u001b[39m_forward_hooks \u001b[39mor\u001b[39;00m \u001b[39mself\u001b[39m\u001b[39m.\u001b[39m_forward_pre_hooks \u001b[39mor\u001b[39;00m _global_backward_hooks\n\u001b[0;32m   1189\u001b[0m         \u001b[39mor\u001b[39;00m _global_forward_hooks \u001b[39mor\u001b[39;00m _global_forward_pre_hooks):\n\u001b[1;32m-> 1190\u001b[0m     \u001b[39mreturn\u001b[39;00m forward_call(\u001b[39m*\u001b[39m\u001b[39minput\u001b[39m, \u001b[39m*\u001b[39m\u001b[39m*\u001b[39mkwargs)\n\u001b[0;32m   1191\u001b[0m \u001b[39m# Do not call functions when jit is used\u001b[39;00m\n\u001b[0;32m   1192\u001b[0m full_backward_hooks, non_full_backward_hooks \u001b[39m=\u001b[39m [], []\n",
      "Cell \u001b[1;32mIn [8], line 89\u001b[0m, in \u001b[0;36mHazelNet.forward\u001b[1;34m(self, template, img)\u001b[0m\n\u001b[0;32m     79\u001b[0m \u001b[39mdef\u001b[39;00m \u001b[39mforward\u001b[39m(\u001b[39mself\u001b[39m, template, img):\n\u001b[0;32m     80\u001b[0m     \u001b[39m\"\"\"Main function for forward path\u001b[39;00m\n\u001b[0;32m     81\u001b[0m \n\u001b[0;32m     82\u001b[0m \u001b[39m    Args:\u001b[39;00m\n\u001b[1;32m   (...)\u001b[0m\n\u001b[0;32m     87\u001b[0m \u001b[39m        tensor: tensor containing the calculated similarity as float\u001b[39;00m\n\u001b[0;32m     88\u001b[0m \u001b[39m    \"\"\"\u001b[39;00m\n\u001b[1;32m---> 89\u001b[0m     output1 \u001b[39m=\u001b[39m \u001b[39mself\u001b[39;49m\u001b[39m.\u001b[39;49mforward_once(template)\n\u001b[0;32m     90\u001b[0m     output2 \u001b[39m=\u001b[39m \u001b[39mself\u001b[39m\u001b[39m.\u001b[39mforward_once(img)\n\u001b[0;32m     91\u001b[0m     output \u001b[39m=\u001b[39m \u001b[39mself\u001b[39m\u001b[39m.\u001b[39mdistance_layer(output1,output2)\n",
      "Cell \u001b[1;32mIn [8], line 60\u001b[0m, in \u001b[0;36mHazelNet.forward_once\u001b[1;34m(self, inputs)\u001b[0m\n\u001b[0;32m     51\u001b[0m \u001b[39mdef\u001b[39;00m \u001b[39mforward_once\u001b[39m(\u001b[39mself\u001b[39m, inputs):\n\u001b[0;32m     52\u001b[0m     \u001b[39m\"\"\"Helper function for forward path\u001b[39;00m\n\u001b[0;32m     53\u001b[0m \n\u001b[0;32m     54\u001b[0m \u001b[39m    Args:\u001b[39;00m\n\u001b[1;32m   (...)\u001b[0m\n\u001b[0;32m     58\u001b[0m \u001b[39m        tensor: output tensor\u001b[39;00m\n\u001b[0;32m     59\u001b[0m \u001b[39m    \"\"\"\u001b[39;00m\n\u001b[1;32m---> 60\u001b[0m     output \u001b[39m=\u001b[39m \u001b[39mself\u001b[39;49m\u001b[39m.\u001b[39;49mresnet(inputs)\n\u001b[0;32m     61\u001b[0m     output \u001b[39m=\u001b[39m output\u001b[39m.\u001b[39mview(output\u001b[39m.\u001b[39msize()[\u001b[39m0\u001b[39m], \u001b[39m-\u001b[39m\u001b[39m1\u001b[39m)\n\u001b[0;32m     62\u001b[0m     output \u001b[39m=\u001b[39m \u001b[39mself\u001b[39m\u001b[39m.\u001b[39mfc(output)\n",
      "File \u001b[1;32mc:\\Users\\micha\\Envs\\UKSH\\lib\\site-packages\\torch\\nn\\modules\\module.py:1190\u001b[0m, in \u001b[0;36mModule._call_impl\u001b[1;34m(self, *input, **kwargs)\u001b[0m\n\u001b[0;32m   1186\u001b[0m \u001b[39m# If we don't have any hooks, we want to skip the rest of the logic in\u001b[39;00m\n\u001b[0;32m   1187\u001b[0m \u001b[39m# this function, and just call forward.\u001b[39;00m\n\u001b[0;32m   1188\u001b[0m \u001b[39mif\u001b[39;00m \u001b[39mnot\u001b[39;00m (\u001b[39mself\u001b[39m\u001b[39m.\u001b[39m_backward_hooks \u001b[39mor\u001b[39;00m \u001b[39mself\u001b[39m\u001b[39m.\u001b[39m_forward_hooks \u001b[39mor\u001b[39;00m \u001b[39mself\u001b[39m\u001b[39m.\u001b[39m_forward_pre_hooks \u001b[39mor\u001b[39;00m _global_backward_hooks\n\u001b[0;32m   1189\u001b[0m         \u001b[39mor\u001b[39;00m _global_forward_hooks \u001b[39mor\u001b[39;00m _global_forward_pre_hooks):\n\u001b[1;32m-> 1190\u001b[0m     \u001b[39mreturn\u001b[39;00m forward_call(\u001b[39m*\u001b[39m\u001b[39minput\u001b[39m, \u001b[39m*\u001b[39m\u001b[39m*\u001b[39mkwargs)\n\u001b[0;32m   1191\u001b[0m \u001b[39m# Do not call functions when jit is used\u001b[39;00m\n\u001b[0;32m   1192\u001b[0m full_backward_hooks, non_full_backward_hooks \u001b[39m=\u001b[39m [], []\n",
      "File \u001b[1;32mc:\\Users\\micha\\Envs\\UKSH\\lib\\site-packages\\torch\\nn\\modules\\container.py:204\u001b[0m, in \u001b[0;36mSequential.forward\u001b[1;34m(self, input)\u001b[0m\n\u001b[0;32m    202\u001b[0m \u001b[39mdef\u001b[39;00m \u001b[39mforward\u001b[39m(\u001b[39mself\u001b[39m, \u001b[39minput\u001b[39m):\n\u001b[0;32m    203\u001b[0m     \u001b[39mfor\u001b[39;00m module \u001b[39min\u001b[39;00m \u001b[39mself\u001b[39m:\n\u001b[1;32m--> 204\u001b[0m         \u001b[39minput\u001b[39m \u001b[39m=\u001b[39m module(\u001b[39minput\u001b[39;49m)\n\u001b[0;32m    205\u001b[0m     \u001b[39mreturn\u001b[39;00m \u001b[39minput\u001b[39m\n",
      "File \u001b[1;32mc:\\Users\\micha\\Envs\\UKSH\\lib\\site-packages\\torch\\nn\\modules\\module.py:1190\u001b[0m, in \u001b[0;36mModule._call_impl\u001b[1;34m(self, *input, **kwargs)\u001b[0m\n\u001b[0;32m   1186\u001b[0m \u001b[39m# If we don't have any hooks, we want to skip the rest of the logic in\u001b[39;00m\n\u001b[0;32m   1187\u001b[0m \u001b[39m# this function, and just call forward.\u001b[39;00m\n\u001b[0;32m   1188\u001b[0m \u001b[39mif\u001b[39;00m \u001b[39mnot\u001b[39;00m (\u001b[39mself\u001b[39m\u001b[39m.\u001b[39m_backward_hooks \u001b[39mor\u001b[39;00m \u001b[39mself\u001b[39m\u001b[39m.\u001b[39m_forward_hooks \u001b[39mor\u001b[39;00m \u001b[39mself\u001b[39m\u001b[39m.\u001b[39m_forward_pre_hooks \u001b[39mor\u001b[39;00m _global_backward_hooks\n\u001b[0;32m   1189\u001b[0m         \u001b[39mor\u001b[39;00m _global_forward_hooks \u001b[39mor\u001b[39;00m _global_forward_pre_hooks):\n\u001b[1;32m-> 1190\u001b[0m     \u001b[39mreturn\u001b[39;00m forward_call(\u001b[39m*\u001b[39m\u001b[39minput\u001b[39m, \u001b[39m*\u001b[39m\u001b[39m*\u001b[39mkwargs)\n\u001b[0;32m   1191\u001b[0m \u001b[39m# Do not call functions when jit is used\u001b[39;00m\n\u001b[0;32m   1192\u001b[0m full_backward_hooks, non_full_backward_hooks \u001b[39m=\u001b[39m [], []\n",
      "File \u001b[1;32mc:\\Users\\micha\\Envs\\UKSH\\lib\\site-packages\\torch\\nn\\modules\\batchnorm.py:151\u001b[0m, in \u001b[0;36m_BatchNorm.forward\u001b[1;34m(self, input)\u001b[0m\n\u001b[0;32m    148\u001b[0m \u001b[39mif\u001b[39;00m \u001b[39mself\u001b[39m\u001b[39m.\u001b[39mtraining \u001b[39mand\u001b[39;00m \u001b[39mself\u001b[39m\u001b[39m.\u001b[39mtrack_running_stats:\n\u001b[0;32m    149\u001b[0m     \u001b[39m# TODO: if statement only here to tell the jit to skip emitting this when it is None\u001b[39;00m\n\u001b[0;32m    150\u001b[0m     \u001b[39mif\u001b[39;00m \u001b[39mself\u001b[39m\u001b[39m.\u001b[39mnum_batches_tracked \u001b[39mis\u001b[39;00m \u001b[39mnot\u001b[39;00m \u001b[39mNone\u001b[39;00m:  \u001b[39m# type: ignore[has-type]\u001b[39;00m\n\u001b[1;32m--> 151\u001b[0m         \u001b[39mself\u001b[39;49m\u001b[39m.\u001b[39;49mnum_batches_tracked\u001b[39m.\u001b[39;49madd_(\u001b[39m1\u001b[39;49m)  \u001b[39m# type: ignore[has-type]\u001b[39;00m\n\u001b[0;32m    152\u001b[0m         \u001b[39mif\u001b[39;00m \u001b[39mself\u001b[39m\u001b[39m.\u001b[39mmomentum \u001b[39mis\u001b[39;00m \u001b[39mNone\u001b[39;00m:  \u001b[39m# use cumulative moving average\u001b[39;00m\n\u001b[0;32m    153\u001b[0m             exponential_average_factor \u001b[39m=\u001b[39m \u001b[39m1.0\u001b[39m \u001b[39m/\u001b[39m \u001b[39mfloat\u001b[39m(\u001b[39mself\u001b[39m\u001b[39m.\u001b[39mnum_batches_tracked)\n",
      "\u001b[1;31mKeyboardInterrupt\u001b[0m: "
     ]
    }
   ],
   "source": [
    "log = trainModel(train_loader=train_loader, val_loader=val_loader)"
   ]
  },
  {
   "cell_type": "code",
   "execution_count": null,
   "metadata": {},
   "outputs": [],
   "source": [
    "#torch.save(model.state_dict(), \"bestmodel_area\")\n",
    "#log.to_csv(\"bestmodellog_area\")"
   ]
  },
  {
   "attachments": {},
   "cell_type": "markdown",
   "metadata": {},
   "source": [
    "# Predict values"
   ]
  },
  {
   "cell_type": "code",
   "execution_count": null,
   "metadata": {},
   "outputs": [],
   "source": [
    "def predict (model, template, img):\n",
    "    \"\"\"Function for predicting the correlation score between two images\n",
    "\n",
    "    Args:\n",
    "        model (HazelNet): The model to use for prediction\n",
    "        template (tensor): template image\n",
    "        img (tensor): image to compare to\n",
    "\n",
    "    Returns:\n",
    "        float: label containing predicted similarity score\n",
    "    \"\"\"\n",
    "    model.eval()\n",
    "    with torch.no_grad():\n",
    "        ypred = model(template,img)\n",
    "    return round(ypred.item(),2)"
   ]
  },
  {
   "cell_type": "code",
   "execution_count": null,
   "metadata": {},
   "outputs": [],
   "source": [
    "transform = transforms.Compose([\n",
    "\n",
    "    transforms.Grayscale(),\n",
    "    # resize\n",
    "    transforms.Resize(size),\n",
    "    # to-tensor\n",
    "    transforms.ToTensor(),\n",
    "    # normalize\n",
    "    transforms.Normalize((0.98), (0.07))\n",
    "])"
   ]
  },
  {
   "cell_type": "code",
   "execution_count": null,
   "metadata": {},
   "outputs": [],
   "source": [
    "def readImg_url ( url1, url2, isblack = False, plot = False):\n",
    "        \"\"\"Function for reading images into processable tensors. Can draw a picture of processed images\n",
    "\n",
    "        Args:\n",
    "            url1 (string): url to template image\n",
    "            url2 (string): url to image for comparison\n",
    "            isblack (bool, optional): inverts image colors if set to true. Defaults to False.\n",
    "            plot (bool, optional): plots imported images if set to true. Defaults to False.\n",
    "\n",
    "        Returns:\n",
    "            tensor, tensor: two tensors containing the processed images ready for prediction\n",
    "        \"\"\"\n",
    "\n",
    "        realim1 = Image.open(url1)\n",
    "        realim2 = Image.open(url2)\n",
    "        # invert white and black if image is on white background\n",
    "        if isblack:\n",
    "            realim1 = PIL.ImageOps.invert(realim1)\n",
    "            realim2 = PIL.ImageOps.invert(realim2)\n",
    "\n",
    "        template = transform(realim1).unsqueeze(0).to(device)\n",
    "        img = transform(realim2).unsqueeze(0).to(device)\n",
    "\n",
    "        if plot:\n",
    "            fig, ax = plt.subplots(1,2)\n",
    "            ax[0].imshow(realim1)\n",
    "            ax[1].imshow(realim2)\n",
    "        return template, img        "
   ]
  },
  {
   "cell_type": "code",
   "execution_count": null,
   "metadata": {},
   "outputs": [],
   "source": [
    "path = 'c:\\\\Users\\\\micha\\\\Documents\\\\FH Kiel\\\\UKSH\\\\Abgabe Application Project'\n",
    "url1 = f\"{path}/Real Images/Peaks/Peak1.png\"\n",
    "url2 = f\"{path}/Real Images/Peaks/Peak6.png\"\n",
    "\n",
    "template, img = readImg_url(url1= url1, url2 =url2,  isblack=False, plot=True )\n",
    "predict(model = model, template = template, img = img)"
   ]
  },
  {
   "cell_type": "code",
   "execution_count": null,
   "metadata": {},
   "outputs": [],
   "source": [
    "test = next(iter(test_loader))\n",
    "img1 = test[0][0].squeeze(0).numpy()\n",
    "img2 = test[1][0].squeeze(0).numpy()\n",
    "\n",
    "fig, ax = plt.subplots(1,2)\n",
    "ax[0].imshow(img1)\n",
    "ax[1].imshow(img2)\n",
    "fig.suptitle(test[2][0])"
   ]
  },
  {
   "cell_type": "code",
   "execution_count": null,
   "metadata": {},
   "outputs": [],
   "source": [
    "predict(model = model, template = test[0][0].unsqueeze(0).to(device), img = test[1][0].unsqueeze(0).to(device))"
   ]
  },
  {
   "cell_type": "code",
   "execution_count": 16,
   "metadata": {},
   "outputs": [
    {
     "data": {
      "text/plain": [
       "<All keys matched successfully>"
      ]
     },
     "execution_count": 16,
     "metadata": {},
     "output_type": "execute_result"
    }
   ],
   "source": [
    "model = HazelNet().to(device)\n",
    "#torch.save(model.state_dict(), f\"test\")\n",
    "model.load_state_dict(torch.load(f\"bestmodel_area\"))"
   ]
  }
 ],
 "metadata": {
  "kernelspec": {
   "display_name": "UKSH",
   "language": "python",
   "name": "python3"
  },
  "language_info": {
   "codemirror_mode": {
    "name": "ipython",
    "version": 3
   },
   "file_extension": ".py",
   "mimetype": "text/x-python",
   "name": "python",
   "nbconvert_exporter": "python",
   "pygments_lexer": "ipython3",
   "version": "3.10.4"
  },
  "orig_nbformat": 4,
  "vscode": {
   "interpreter": {
    "hash": "8bcfe374eb6962dfaa81be4d9965aebe0aa9e8512cbd375dd90ce444d679a914"
   }
  }
 },
 "nbformat": 4,
 "nbformat_minor": 2
}
