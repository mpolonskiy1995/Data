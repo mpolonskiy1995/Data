{
 "cells": [
  {
   "cell_type": "code",
   "execution_count": 4,
   "metadata": {},
   "outputs": [
    {
     "name": "stderr",
     "output_type": "stream",
     "text": [
      "c:\\Users\\micha\\Envs\\UKSH\\lib\\site-packages\\tqdm\\auto.py:22: TqdmWarning: IProgress not found. Please update jupyter and ipywidgets. See https://ipywidgets.readthedocs.io/en/stable/user_install.html\n",
      "  from .autonotebook import tqdm as notebook_tqdm\n"
     ]
    }
   ],
   "source": [
    "import torch\n",
    "import torch.nn as nn\n",
    "import torch.optim as optim\n",
    "from torchvision import models\n",
    "from torch.utils.data import DataLoader\n",
    "from torch.utils.data import Dataset\n",
    "\n",
    "import pandas as pd\n",
    "import numpy as np\n",
    "from sklearn.utils import resample\n",
    "\n",
    "import cv2 as cv\n",
    "import matplotlib.pyplot as plt\n",
    "from skimage.transform import resize\n",
    "\n",
    "from torch.utils.tensorboard import SummaryWriter\n",
    "import torchmetrics\n",
    "\n",
    "import warnings\n",
    "warnings.filterwarnings(\"ignore\")\n",
    "import seaborn as sns\n",
    "from tqdm import tqdm\n",
    "from sklearn.model_selection import train_test_split"
   ]
  },
  {
   "cell_type": "code",
   "execution_count": 5,
   "metadata": {},
   "outputs": [],
   "source": [
    "if torch.cuda.is_available(): \n",
    " dev = \"cuda:0\" \n",
    "else: \n",
    " dev = \"cpu\" \n",
    "device = torch.device(dev) "
   ]
  },
  {
   "cell_type": "code",
   "execution_count": 6,
   "metadata": {},
   "outputs": [],
   "source": [
    "class HazelNet(nn.Module):\n",
    "    \n",
    "    def __init__(self):\n",
    "        # wofür ist das da?\n",
    "        super(HazelNet, self).__init__()\n",
    "        self.resnet = models.resnet18(pretrained=True)\n",
    "  \n",
    "        # over-write the first conv layer to be able to read images\n",
    "        # as resnet18 reads (3,x,x) where 3 is RGB channels\n",
    "        # whereas MNIST has (1,x,x) where 1 is a gray-scale channel\n",
    "        self.resnet.conv1 = nn.Conv2d(1, 64, kernel_size=(7, 7), stride=(2, 2), padding=(3, 3), bias=False)\n",
    "\n",
    "        self.fc_in_features = self.resnet.fc.in_features \n",
    "        # remove the last layer of resnet18 (linear layer which is before avgpool layer)\n",
    "        self.resnet = torch.nn.Sequential(*(list(self.resnet.children())[:-1]))\n",
    "        #self.resnet.fc kann das letzte layer ansprechen und ersetzen bei bedarf\n",
    "\n",
    "        # add linear layers to compare between the features of the two images\n",
    "        self.fc = nn.Sequential(\n",
    "            nn.Linear(self.fc_in_features, 4096),\n",
    "            nn.ReLU(inplace=True),\n",
    "            nn.Dropout2d(p=0.5),\n",
    "            nn.Linear(4096, 2048),\n",
    "            nn.ReLU(inplace=True),\n",
    "            nn.Dropout2d(p=0.5),\n",
    "            nn.Linear(2048, 1024),\n",
    "            nn.ReLU(inplace=True),\n",
    "            nn.Dropout2d(p=0.5),\n",
    "            nn.Linear(1024, 128),\n",
    "            )        \n",
    "       \n",
    "        # initialize the weights\n",
    "        self.resnet.apply(self.init_weights)\n",
    "        self.fc.apply(self.init_weights)   \n",
    "        \n",
    "    def init_weights(self, m):\n",
    "        if isinstance(m, nn.Linear):\n",
    "            torch.nn.init.xavier_uniform(m.weight)\n",
    "            m.bias.data.fill_(0.01)\n",
    "    \n",
    "    # Erstellt NN mit dem input, inputs ist unser batch\n",
    "    def forward_once(self, inputs):\n",
    "        output = self.resnet(inputs)\n",
    "        output = output.view(output.size()[0], -1)\n",
    "        output = self.fc(output)\n",
    "        return output\n",
    "\n",
    "    \n",
    "    def distance_layer(self, vec1, vec2):\n",
    "        cos = torch.nn.CosineSimilarity()\n",
    "        similarity = cos(vec1, vec2) \n",
    "        return similarity\n",
    "\n",
    "    def forward(self, template, img):\n",
    "        output1 = self.forward_once(template)\n",
    "        output2 = self.forward_once(img)\n",
    "\n",
    "        output = self.distance_layer(output1,output2)\n",
    " \n",
    "        return output   "
   ]
  },
  {
   "attachments": {},
   "cell_type": "markdown",
   "metadata": {},
   "source": [
    "# Parameters"
   ]
  },
  {
   "cell_type": "code",
   "execution_count": 7,
   "metadata": {},
   "outputs": [],
   "source": [
    "hidden_dim = 128\n",
    "hidden_dim2 = 64\n",
    "hidden_dim3 = 32\n",
    "\n",
    "do_learn = True\n",
    "save_frequency = 2\n",
    "batch_size = 40 if torch.cuda.is_available() else 64\n",
    "\n",
    "learning_rate = 0.005\n",
    "num_epochs = 100\n",
    "weight_decay = 0.1\n",
    "momentum = 0.9\n",
    "\n",
    "loss_history = []\n",
    "r2_history = []\n",
    "\n",
    "\n",
    "loss_history2 = []\n",
    "r2_history2 = []\n"
   ]
  },
  {
   "attachments": {},
   "cell_type": "markdown",
   "metadata": {},
   "source": [
    "# Splitting into Train, Val and Test"
   ]
  },
  {
   "cell_type": "code",
   "execution_count": 8,
   "metadata": {},
   "outputs": [],
   "source": [
    "images = np.load(\"images.npy\", allow_pickle=True ).astype(float)\n",
    "pairs = np.load(\"imagePairs.npy\", allow_pickle=True ).astype(int)\n",
    "labels = np.load(\"imageLabels.npy\", allow_pickle=True ).astype(float)\n",
    "\n",
    "pairs = pairs[500:3500]\n",
    "labels = labels[500:3500]\n",
    "\n",
    "# Split into Train, Val and Test\n",
    "rndidx = np.random.choice(np.arange(0,  len(pairs)), size = len(pairs) )\n",
    "trainidx, remain = np.array_split(rndidx, [int(0.7 * len(rndidx))])\n",
    "validx, testidx = np.array_split(remain, [int(0.5 * len(remain))])\n",
    "\n",
    "trainpairs = pairs[trainidx]\n",
    "valpairs = pairs[validx]\n",
    "testpairs = pairs[testidx]\n",
    "\n",
    "trainlabels = labels[trainidx]\n",
    "vallabels = labels[validx]\n",
    "testlabels = labels[testidx]"
   ]
  },
  {
   "cell_type": "code",
   "execution_count": 9,
   "metadata": {},
   "outputs": [
    {
     "data": {
      "text/plain": [
       "<AxesSubplot: ylabel='Count'>"
      ]
     },
     "execution_count": 9,
     "metadata": {},
     "output_type": "execute_result"
    },
    {
     "data": {
      "image/png": "[encoded data removed]",
      "text/plain": [
       "<Figure size 640x480 with 1 Axes>"
      ]
     },
     "metadata": {},
     "output_type": "display_data"
    }
   ],
   "source": [
    "sns.histplot(trainlabels)"
   ]
  },
  {
   "cell_type": "code",
   "execution_count": 10,
   "metadata": {},
   "outputs": [
    {
     "data": {
      "text/plain": [
       "<AxesSubplot: ylabel='Count'>"
      ]
     },
     "execution_count": 10,
     "metadata": {},
     "output_type": "execute_result"
    },
    {
     "data": {
      "image/png": "[encoded data removed]",
      "text/plain": [
       "<Figure size 640x480 with 1 Axes>"
      ]
     },
     "metadata": {},
     "output_type": "display_data"
    }
   ],
   "source": [
    "sns.histplot(vallabels)"
   ]
  },
  {
   "cell_type": "code",
   "execution_count": 11,
   "metadata": {},
   "outputs": [],
   "source": [
    "# Class for creating a Dataset which the dataloader from pytroch needs to create a wrapper for iterating though the data\n",
    "class CustomImageDataset(Dataset):\n",
    "    def __init__(self, root, pairs, labels, images):\n",
    "       self.pairs = pairs\n",
    "       self.labels = labels\n",
    "       self.images = images\n",
    "       \n",
    "    def __len__(self):\n",
    "        return len(self.labels)\n",
    "\n",
    "    def __getitem__(self, idx):\n",
    "        element = self.pairs[idx]\n",
    "        label = self.labels[idx]\n",
    "        template = self.images[self.pairs[idx][0]]\n",
    "        img = self.images[self.pairs[idx][1]]\n",
    "\n",
    "        template, img = resize(template, (224, 224)), resize(img, (224, 224,))\n",
    "\n",
    "        img = np.expand_dims(img, axis=0)\n",
    "        template = np.expand_dims(template, axis=0)\n",
    "       \n",
    "\n",
    "        return  template.astype(np.float32), img.astype(np.float32), label.astype(np.float32) "
   ]
  },
  {
   "cell_type": "code",
   "execution_count": 12,
   "metadata": {},
   "outputs": [],
   "source": [
    "model = HazelNet().to(device)\n",
    "criterion = nn.MSELoss()\n",
    "optimizer = optim.Adam(model.parameters(), lr=learning_rate)\n",
    "\n",
    "training_data = CustomImageDataset(\"\", pairs=trainpairs, labels=trainlabels, images=images)\n",
    "val_data = CustomImageDataset(\"\",  pairs=valpairs, labels=vallabels, images=images)\n",
    "test_data = CustomImageDataset(\"\", pairs=testpairs, labels=testlabels, images=images)\n",
    "\n",
    "# Create data loaders.\n",
    "train_loader = DataLoader(training_data, batch_size=batch_size, shuffle=True)\n",
    "val_loader = DataLoader(val_data, batch_size=batch_size, shuffle=True)\n",
    "test_loader = DataLoader(test_data, batch_size=batch_size, shuffle=True)\n"
   ]
  },
  {
   "cell_type": "code",
   "execution_count": 13,
   "metadata": {},
   "outputs": [],
   "source": [
    "def train_one_epoch(epoch_index):\n",
    "    running_loss = 0\n",
    "    running_mse = 0\n",
    "    running_r2 = 0\n",
    "\n",
    "    total_loss = 0\n",
    "    total_r2 = 0\n",
    "    \n",
    "    for batch_idx, data in enumerate(train_loader):\n",
    "        templates, images, targets = data\n",
    "        \n",
    "        templates = templates.to(device)\n",
    "        images = images.to(device)\n",
    "        targets = targets.to(device)\n",
    "        \n",
    "        optimizer.zero_grad()\n",
    "\n",
    "        outputs = model(templates, images)\n",
    "\n",
    "        loss = criterion(outputs, targets)\n",
    "        loss.backward()\n",
    "\n",
    "        optimizer.step()\n",
    "\n",
    "        rscore = r2score(outputs, torch.tensor(targets).squeeze())\n",
    "        running_r2 += rscore\n",
    "        total_r2 += rscore\n",
    "\n",
    "        mse = msecalc(outputs, torch.tensor(targets).squeeze())\n",
    "        running_mse += mse\n",
    "        \n",
    "        running_loss += loss.item()\n",
    "        total_loss += loss.item()\n",
    "\n",
    "        if batch_idx % 100 == 80:\n",
    "            print('Train Epoch: {} [{}/{} ({:.0f}%)]\\tLoss: {:.6f}\\tR2Score: {} \\tMSE: {}'.format(\n",
    "            epoch_index, batch_idx * len(templates), len(train_loader.dataset),\n",
    "            100. * batch_idx / len(train_loader), running_mse / 100, running_r2 / 100, running_mse / 100 ))\n",
    "            running_loss = 0\n",
    "            running_mse = 0\n",
    "            running_r2 = 0\n",
    "\n",
    "    avg_loss = total_loss / (batch_idx + 1)\n",
    "    avg_r2 = total_r2 / (batch_idx + 1)   \n",
    "\n",
    "    del templates\n",
    "    del images\n",
    "    del targets\n",
    "\n",
    "    torch.cuda.empty_cache()\n",
    "\n",
    "    return avg_loss, avg_r2"
   ]
  },
  {
   "attachments": {},
   "cell_type": "markdown",
   "metadata": {},
   "source": [
    "model.train(False) <- Ich weiß nicht warum, aber das hier sorgt dafür, dass die Werte imme rauf 1.0 predicted werden für die validation daten. Zumindest in den ersten 20 epochen\n",
    "\n",
    "with torch.no_grad():\n",
    "     print(model(vtemplates,vimages))\n",
    "\n"
   ]
  },
  {
   "cell_type": "code",
   "execution_count": 14,
   "metadata": {},
   "outputs": [
    {
     "ename": "KeyboardInterrupt",
     "evalue": "",
     "output_type": "error",
     "traceback": [
      "\u001b[1;31m---------------------------------------------------------------------------\u001b[0m",
      "\u001b[1;31mKeyboardInterrupt\u001b[0m                         Traceback (most recent call last)",
      "Cell \u001b[1;32mIn [14], line 10\u001b[0m\n\u001b[0;32m      7\u001b[0m \u001b[39mfor\u001b[39;00m epoch \u001b[39min\u001b[39;00m \u001b[39mrange\u001b[39m (num_epochs):\n\u001b[0;32m      9\u001b[0m     model\u001b[39m.\u001b[39mtrain(\u001b[39mTrue\u001b[39;00m)\n\u001b[1;32m---> 10\u001b[0m     avg_loss, avg_r2 \u001b[39m=\u001b[39m train_one_epoch(epoch)\n\u001b[0;32m     11\u001b[0m     torch\u001b[39m.\u001b[39mcuda\u001b[39m.\u001b[39mempty_cache()\n\u001b[0;32m     12\u001b[0m     model\u001b[39m.\u001b[39mtrain(\u001b[39mFalse\u001b[39;00m)\n",
      "Cell \u001b[1;32mIn [13], line 18\u001b[0m, in \u001b[0;36mtrain_one_epoch\u001b[1;34m(epoch_index)\u001b[0m\n\u001b[0;32m     14\u001b[0m targets \u001b[39m=\u001b[39m targets\u001b[39m.\u001b[39mto(device)\n\u001b[0;32m     16\u001b[0m optimizer\u001b[39m.\u001b[39mzero_grad()\n\u001b[1;32m---> 18\u001b[0m outputs \u001b[39m=\u001b[39m model(templates, images)\n\u001b[0;32m     20\u001b[0m loss \u001b[39m=\u001b[39m criterion(outputs, targets)\n\u001b[0;32m     21\u001b[0m loss\u001b[39m.\u001b[39mbackward()\n",
      "File \u001b[1;32mc:\\Users\\micha\\Envs\\UKSH\\lib\\site-packages\\torch\\nn\\modules\\module.py:1190\u001b[0m, in \u001b[0;36mModule._call_impl\u001b[1;34m(self, *input, **kwargs)\u001b[0m\n\u001b[0;32m   1186\u001b[0m \u001b[39m# If we don't have any hooks, we want to skip the rest of the logic in\u001b[39;00m\n\u001b[0;32m   1187\u001b[0m \u001b[39m# this function, and just call forward.\u001b[39;00m\n\u001b[0;32m   1188\u001b[0m \u001b[39mif\u001b[39;00m \u001b[39mnot\u001b[39;00m (\u001b[39mself\u001b[39m\u001b[39m.\u001b[39m_backward_hooks \u001b[39mor\u001b[39;00m \u001b[39mself\u001b[39m\u001b[39m.\u001b[39m_forward_hooks \u001b[39mor\u001b[39;00m \u001b[39mself\u001b[39m\u001b[39m.\u001b[39m_forward_pre_hooks \u001b[39mor\u001b[39;00m _global_backward_hooks\n\u001b[0;32m   1189\u001b[0m         \u001b[39mor\u001b[39;00m _global_forward_hooks \u001b[39mor\u001b[39;00m _global_forward_pre_hooks):\n\u001b[1;32m-> 1190\u001b[0m     \u001b[39mreturn\u001b[39;00m forward_call(\u001b[39m*\u001b[39m\u001b[39minput\u001b[39m, \u001b[39m*\u001b[39m\u001b[39m*\u001b[39mkwargs)\n\u001b[0;32m   1191\u001b[0m \u001b[39m# Do not call functions when jit is used\u001b[39;00m\n\u001b[0;32m   1192\u001b[0m full_backward_hooks, non_full_backward_hooks \u001b[39m=\u001b[39m [], []\n",
      "Cell \u001b[1;32mIn [6], line 55\u001b[0m, in \u001b[0;36mHazelNet.forward\u001b[1;34m(self, template, img)\u001b[0m\n\u001b[0;32m     54\u001b[0m \u001b[39mdef\u001b[39;00m \u001b[39mforward\u001b[39m(\u001b[39mself\u001b[39m, template, img):\n\u001b[1;32m---> 55\u001b[0m     output1 \u001b[39m=\u001b[39m \u001b[39mself\u001b[39;49m\u001b[39m.\u001b[39;49mforward_once(template)\n\u001b[0;32m     56\u001b[0m     output2 \u001b[39m=\u001b[39m \u001b[39mself\u001b[39m\u001b[39m.\u001b[39mforward_once(img)\n\u001b[0;32m     58\u001b[0m     output \u001b[39m=\u001b[39m \u001b[39mself\u001b[39m\u001b[39m.\u001b[39mdistance_layer(output1,output2)\n",
      "Cell \u001b[1;32mIn [6], line 43\u001b[0m, in \u001b[0;36mHazelNet.forward_once\u001b[1;34m(self, inputs)\u001b[0m\n\u001b[0;32m     42\u001b[0m \u001b[39mdef\u001b[39;00m \u001b[39mforward_once\u001b[39m(\u001b[39mself\u001b[39m, inputs):\n\u001b[1;32m---> 43\u001b[0m     output \u001b[39m=\u001b[39m \u001b[39mself\u001b[39;49m\u001b[39m.\u001b[39;49mresnet(inputs)\n\u001b[0;32m     44\u001b[0m     output \u001b[39m=\u001b[39m output\u001b[39m.\u001b[39mview(output\u001b[39m.\u001b[39msize()[\u001b[39m0\u001b[39m], \u001b[39m-\u001b[39m\u001b[39m1\u001b[39m)\n\u001b[0;32m     45\u001b[0m     output \u001b[39m=\u001b[39m \u001b[39mself\u001b[39m\u001b[39m.\u001b[39mfc(output)\n",
      "File \u001b[1;32mc:\\Users\\micha\\Envs\\UKSH\\lib\\site-packages\\torch\\nn\\modules\\module.py:1190\u001b[0m, in \u001b[0;36mModule._call_impl\u001b[1;34m(self, *input, **kwargs)\u001b[0m\n\u001b[0;32m   1186\u001b[0m \u001b[39m# If we don't have any hooks, we want to skip the rest of the logic in\u001b[39;00m\n\u001b[0;32m   1187\u001b[0m \u001b[39m# this function, and just call forward.\u001b[39;00m\n\u001b[0;32m   1188\u001b[0m \u001b[39mif\u001b[39;00m \u001b[39mnot\u001b[39;00m (\u001b[39mself\u001b[39m\u001b[39m.\u001b[39m_backward_hooks \u001b[39mor\u001b[39;00m \u001b[39mself\u001b[39m\u001b[39m.\u001b[39m_forward_hooks \u001b[39mor\u001b[39;00m \u001b[39mself\u001b[39m\u001b[39m.\u001b[39m_forward_pre_hooks \u001b[39mor\u001b[39;00m _global_backward_hooks\n\u001b[0;32m   1189\u001b[0m         \u001b[39mor\u001b[39;00m _global_forward_hooks \u001b[39mor\u001b[39;00m _global_forward_pre_hooks):\n\u001b[1;32m-> 1190\u001b[0m     \u001b[39mreturn\u001b[39;00m forward_call(\u001b[39m*\u001b[39m\u001b[39minput\u001b[39m, \u001b[39m*\u001b[39m\u001b[39m*\u001b[39mkwargs)\n\u001b[0;32m   1191\u001b[0m \u001b[39m# Do not call functions when jit is used\u001b[39;00m\n\u001b[0;32m   1192\u001b[0m full_backward_hooks, non_full_backward_hooks \u001b[39m=\u001b[39m [], []\n",
      "File \u001b[1;32mc:\\Users\\micha\\Envs\\UKSH\\lib\\site-packages\\torch\\nn\\modules\\container.py:204\u001b[0m, in \u001b[0;36mSequential.forward\u001b[1;34m(self, input)\u001b[0m\n\u001b[0;32m    202\u001b[0m \u001b[39mdef\u001b[39;00m \u001b[39mforward\u001b[39m(\u001b[39mself\u001b[39m, \u001b[39minput\u001b[39m):\n\u001b[0;32m    203\u001b[0m     \u001b[39mfor\u001b[39;00m module \u001b[39min\u001b[39;00m \u001b[39mself\u001b[39m:\n\u001b[1;32m--> 204\u001b[0m         \u001b[39minput\u001b[39m \u001b[39m=\u001b[39m module(\u001b[39minput\u001b[39;49m)\n\u001b[0;32m    205\u001b[0m     \u001b[39mreturn\u001b[39;00m \u001b[39minput\u001b[39m\n",
      "File \u001b[1;32mc:\\Users\\micha\\Envs\\UKSH\\lib\\site-packages\\torch\\nn\\modules\\module.py:1190\u001b[0m, in \u001b[0;36mModule._call_impl\u001b[1;34m(self, *input, **kwargs)\u001b[0m\n\u001b[0;32m   1186\u001b[0m \u001b[39m# If we don't have any hooks, we want to skip the rest of the logic in\u001b[39;00m\n\u001b[0;32m   1187\u001b[0m \u001b[39m# this function, and just call forward.\u001b[39;00m\n\u001b[0;32m   1188\u001b[0m \u001b[39mif\u001b[39;00m \u001b[39mnot\u001b[39;00m (\u001b[39mself\u001b[39m\u001b[39m.\u001b[39m_backward_hooks \u001b[39mor\u001b[39;00m \u001b[39mself\u001b[39m\u001b[39m.\u001b[39m_forward_hooks \u001b[39mor\u001b[39;00m \u001b[39mself\u001b[39m\u001b[39m.\u001b[39m_forward_pre_hooks \u001b[39mor\u001b[39;00m _global_backward_hooks\n\u001b[0;32m   1189\u001b[0m         \u001b[39mor\u001b[39;00m _global_forward_hooks \u001b[39mor\u001b[39;00m _global_forward_pre_hooks):\n\u001b[1;32m-> 1190\u001b[0m     \u001b[39mreturn\u001b[39;00m forward_call(\u001b[39m*\u001b[39m\u001b[39minput\u001b[39m, \u001b[39m*\u001b[39m\u001b[39m*\u001b[39mkwargs)\n\u001b[0;32m   1191\u001b[0m \u001b[39m# Do not call functions when jit is used\u001b[39;00m\n\u001b[0;32m   1192\u001b[0m full_backward_hooks, non_full_backward_hooks \u001b[39m=\u001b[39m [], []\n",
      "File \u001b[1;32mc:\\Users\\micha\\Envs\\UKSH\\lib\\site-packages\\torch\\nn\\modules\\batchnorm.py:151\u001b[0m, in \u001b[0;36m_BatchNorm.forward\u001b[1;34m(self, input)\u001b[0m\n\u001b[0;32m    148\u001b[0m \u001b[39mif\u001b[39;00m \u001b[39mself\u001b[39m\u001b[39m.\u001b[39mtraining \u001b[39mand\u001b[39;00m \u001b[39mself\u001b[39m\u001b[39m.\u001b[39mtrack_running_stats:\n\u001b[0;32m    149\u001b[0m     \u001b[39m# TODO: if statement only here to tell the jit to skip emitting this when it is None\u001b[39;00m\n\u001b[0;32m    150\u001b[0m     \u001b[39mif\u001b[39;00m \u001b[39mself\u001b[39m\u001b[39m.\u001b[39mnum_batches_tracked \u001b[39mis\u001b[39;00m \u001b[39mnot\u001b[39;00m \u001b[39mNone\u001b[39;00m:  \u001b[39m# type: ignore[has-type]\u001b[39;00m\n\u001b[1;32m--> 151\u001b[0m         \u001b[39mself\u001b[39;49m\u001b[39m.\u001b[39;49mnum_batches_tracked\u001b[39m.\u001b[39;49madd_(\u001b[39m1\u001b[39;49m)  \u001b[39m# type: ignore[has-type]\u001b[39;00m\n\u001b[0;32m    152\u001b[0m         \u001b[39mif\u001b[39;00m \u001b[39mself\u001b[39m\u001b[39m.\u001b[39mmomentum \u001b[39mis\u001b[39;00m \u001b[39mNone\u001b[39;00m:  \u001b[39m# use cumulative moving average\u001b[39;00m\n\u001b[0;32m    153\u001b[0m             exponential_average_factor \u001b[39m=\u001b[39m \u001b[39m1.0\u001b[39m \u001b[39m/\u001b[39m \u001b[39mfloat\u001b[39m(\u001b[39mself\u001b[39m\u001b[39m.\u001b[39mnum_batches_tracked)\n",
      "\u001b[1;31mKeyboardInterrupt\u001b[0m: "
     ]
    }
   ],
   "source": [
    "torch.cuda.empty_cache()\n",
    "tb = SummaryWriter()\n",
    "best_vloss = 1000000\n",
    "msecalc = torchmetrics.MeanSquaredError().to(device)\n",
    "r2score = torchmetrics.R2Score().to(device)\n",
    "\n",
    "for epoch in range (num_epochs):\n",
    "\n",
    "    model.train(True)\n",
    "    avg_loss, avg_r2 = train_one_epoch(epoch)\n",
    "    torch.cuda.empty_cache()\n",
    "    model.train(False)\n",
    "\n",
    "    running_vloss = 0\n",
    "    running_vmse = 0\n",
    "    running_vr2 = 0\n",
    "    with torch.no_grad():\n",
    "        for i, vdata in enumerate(val_loader):\n",
    "            vtemplates, vimages, vtargets = vdata\n",
    "            vtemplates = vtemplates.to(device)\n",
    "            vimages = vimages.to(device)\n",
    "            vtargets = vtargets.to(device)\n",
    "\n",
    "            voutputs = model(vtemplates,vimages)\n",
    "            vloss =  criterion(voutputs, vtargets)\n",
    "            running_vloss += vloss.item()\n",
    "\n",
    "            vrscore = r2score(voutputs, torch.tensor(vtargets).squeeze())\n",
    "            running_vr2 += vrscore\n",
    "\n",
    "            vmse = msecalc(voutputs, torch.tensor(vtargets).squeeze())\n",
    "            running_vmse += vmse\n",
    "            print(f\"Berechneter Loss für VALIDATION {vloss.item()} Total loss aktuell {running_vloss}, voutputs ist: {voutputs}\")\n",
    "       \n",
    "        avg_vloss = running_vloss / (i+1)\n",
    "        avg_vr2 = running_vr2  / (i+1)\n",
    "        avg_vmse = running_vmse / (i+1)\n",
    "\n",
    "        print('EPOCH RESULTS: Train Loss {} Valid Loss {} Train R2 {} Valid R2 {} '.format(avg_loss, avg_vloss, avg_r2, avg_vr2))\n",
    "      #  print('EPOCH RESULTS: Train Loss {0:.{1}f} Valid Loss {2} Train R2 {3} Valid R2 {0} '.format(avg_loss, avg_vloss, avg_r2, avg_vr2))\n",
    "\n",
    "        tb.add_scalars('Training vs. Validation Loss',\n",
    "                        { 'Training' : avg_loss, 'Validation' : avg_vloss},\n",
    "                        epoch + 1)\n",
    "\n",
    "\n",
    "        tb.add_scalars('Training vs. Validation R2',\n",
    "                        { 'Training' : avg_r2, 'Validation' : avg_vr2},\n",
    "                        epoch + 1)\n",
    "        tb.flush()       \n",
    "\n",
    "\n",
    "    #Track best performance, and save the model's state\n",
    "        #if avg_vloss < best_vloss:\n",
    "         #   best_vloss = avg_vloss\n",
    "          #  torch.save(model.state_dict(), \"bestmodel2\")\n"
   ]
  },
  {
   "cell_type": "code",
   "execution_count": null,
   "metadata": {},
   "outputs": [],
   "source": [
    "\n",
    "for i in range(10,50):\n",
    "\n",
    "    fig, ax = plt.subplots(1,2)\n",
    "    fig.suptitle(trainlabels[i])\n",
    "    ax[0].imshow(images[trainpairs[i][0]])\n",
    "    ax[1].imshow(images[trainpairs[i][1]])\n",
    "    #print(labelTest[i])\n",
    "    fig.show()"
   ]
  },
  {
   "attachments": {},
   "cell_type": "markdown",
   "metadata": {},
   "source": [
    "# HazelNetTesting"
   ]
  },
  {
   "cell_type": "code",
   "execution_count": 15,
   "metadata": {},
   "outputs": [
    {
     "data": {
      "text/plain": [
       "<All keys matched successfully>"
      ]
     },
     "execution_count": 15,
     "metadata": {},
     "output_type": "execute_result"
    }
   ],
   "source": [
    "model = HazelNet().to(device)\n",
    "model.load_state_dict(torch.load(\"bestmodel2\"))"
   ]
  },
  {
   "cell_type": "code",
   "execution_count": 16,
   "metadata": {},
   "outputs": [],
   "source": [
    "def predict (model, template, img):\n",
    "    model.eval()\n",
    "    with torch.no_grad():\n",
    "        ypred = model(template,img)\n",
    "    return ypred"
   ]
  },
  {
   "cell_type": "code",
   "execution_count": 20,
   "metadata": {},
   "outputs": [
    {
     "name": "stderr",
     "output_type": "stream",
     "text": [
      "12it [00:03,  3.56it/s]\n"
     ]
    }
   ],
   "source": [
    "predictions = []\n",
    "labels = []\n",
    "\n",
    "for i,data in tqdm(enumerate(test_loader)):\n",
    "  templates, images, targets = data\n",
    "  templates = templates.to(device)\n",
    "  images = images.to(device)\n",
    "  targets = targets.to(device)\n",
    "  labels.extend(targets)\n",
    "  predictions.extend(predict(model = model, template = templates, img = images))\n"
   ]
  },
  {
   "cell_type": "code",
   "execution_count": null,
   "metadata": {},
   "outputs": [],
   "source": [
    "\n",
    "for i in range(10,50):\n",
    "\n",
    "    fig, ax = plt.subplots(1,2)\n",
    "    fig.suptitle(trainlabels[i])\n",
    "    ax[0].imshow(images[trainpairs[i][0]])\n",
    "    ax[1].imshow(images[trainpairs[i][1]])\n",
    "    #print(labelTest[i])\n",
    "    fig.show()"
   ]
  }
 ],
 "metadata": {
  "kernelspec": {
   "display_name": "UKSH",
   "language": "python",
   "name": "python3"
  },
  "language_info": {
   "codemirror_mode": {
    "name": "ipython",
    "version": 3
   },
   "file_extension": ".py",
   "mimetype": "text/x-python",
   "name": "python",
   "nbconvert_exporter": "python",
   "pygments_lexer": "ipython3",
   "version": "3.10.4 (tags/v3.10.4:9d38120, Mar 23 2022, 23:13:41) [MSC v.1929 64 bit (AMD64)]"
  },
  "orig_nbformat": 4,
  "vscode": {
   "interpreter": {
    "hash": "8bcfe374eb6962dfaa81be4d9965aebe0aa9e8512cbd375dd90ce444d679a914"
   }
  }
 },
 "nbformat": 4,
 "nbformat_minor": 2
}
